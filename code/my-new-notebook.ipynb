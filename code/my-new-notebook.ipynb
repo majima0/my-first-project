{
 "cells": [
  {
   "cell_type": "code",
   "execution_count": null,
   "id": "df9a0327-04c9-481e-a8ef-b18f9795f5f5",
   "metadata": {},
   "outputs": [],
   "source": [
    "import plotly.graph_objects as go\n",
    "import numpy as np\n",
    "from numpy.lib.npyio import DataSource\n",
    "\n",
    "# Download data set from plotly repo\n",
    "pts = np.loadtxt(DataSource().open('https://raw.githubusercontent.com/plotly/datasets/master/mesh_dataset.txt'))\n",
    "x, y, z = pts.T\n",
    "\n",
    "fig = go.Figure(data=[go.Mesh3d(x=x, y=y, z=z, color='lightpink', opacity=0.50)])\n",
    "fig.show()"
   ]
  }
 ],
 "metadata": {
  "kernelspec": {
   "display_name": "Python 3 (ipykernel)",
   "language": "python",
   "name": "python3"
  },
  "language_info": {
   "codemirror_mode": {
    "name": "ipython",
    "version": 3
   },
   "file_extension": ".py",
   "mimetype": "text/x-python",
   "name": "python",
   "nbconvert_exporter": "python",
   "pygments_lexer": "ipython3",
   "version": "3.10.12"
  }
 },
 "nbformat": 4,
 "nbformat_minor": 5
}
